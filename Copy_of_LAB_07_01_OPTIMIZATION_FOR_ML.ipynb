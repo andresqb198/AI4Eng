{
  "cells": [
    {
      "cell_type": "markdown",
      "metadata": {
        "id": "view-in-github",
        "colab_type": "text"
      },
      "source": [
        "<a href=\"https://colab.research.google.com/github/andresqb198/AI4Eng/blob/main/Copy_of_LAB_07_01_OPTIMIZATION_FOR_ML.ipynb\" target=\"_parent\"><img src=\"https://colab.research.google.com/assets/colab-badge.svg\" alt=\"Open In Colab\"/></a>"
      ]
    },
    {
      "cell_type": "markdown",
      "metadata": {
        "id": "-26d23KHVzFF"
      },
      "source": [
        "# LAB 07.01 - Optimization for ML"
      ]
    },
    {
      "cell_type": "code",
      "execution_count": 1,
      "metadata": {
        "id": "ZlrpdWH_VzFG",
        "colab": {
          "base_uri": "https://localhost:8080/",
          "height": 75
        },
        "outputId": "547ad080-ab44-4dd5-dbba-73fa2c41c12f"
      },
      "outputs": [
        {
          "output_type": "display_data",
          "data": {
            "text/plain": [
              "<IPython.core.display.HTML object>"
            ],
            "text/html": [
              "\n",
              "<meta name=\"google-signin-client_id\"\n",
              "      content=\"461673936472-kdjosv61up3ac1ajeuq6qqu72upilmls.apps.googleusercontent.com\"/>\n",
              "<script src=\"https://apis.google.com/js/client:platform.js?onload=google_button_start\"></script>\n",
              "    "
            ]
          },
          "metadata": {}
        },
        {
          "output_type": "stream",
          "name": "stdout",
          "text": [
            "replicating local resources\n"
          ]
        },
        {
          "output_type": "execute_result",
          "data": {
            "text/plain": [
              "<IPython.core.display.HTML object>"
            ],
            "text/html": [
              "<h3>See <a href='https://m5knaekxo6.execute-api.us-west-2.amazonaws.com/dev-v0001/rlxmooc/web/login' target='_blank'>my courses and progress</a></h2>"
            ]
          },
          "metadata": {},
          "execution_count": 1
        }
      ],
      "source": [
        "!wget --no-cache -O init.py -q https://raw.githubusercontent.com/rramosp/ai4eng.v1/main/content/init.py\n",
        "import init; init.init(force_download=False); init.get_weblink()\n"
      ]
    },
    {
      "cell_type": "code",
      "execution_count": 2,
      "metadata": {
        "id": "9Xs0WQMUVzFI",
        "colab": {
          "base_uri": "https://localhost:8080/",
          "height": 74,
          "referenced_widgets": [
            "d5a7905007ea4945b4e4faddbfdccacb",
            "8ef18f0a9b4d42f4b77a35c86039c855",
            "83eada1c4f0f4734a5a177de02d01fdf",
            "98b4c31fd4b74b2eb41e1363ca9cc6db",
            "5447546896744021a919eb18814b0a2e",
            "a573b791881947ba8fc074846a372eec",
            "d98dc32df0be43ad8e35e2c5fd009f6d",
            "6524537198884058b691453abd34a550",
            "354afd5a28e3473c8f5cacab168f0e9d",
            "f44ca5b66eb04d7e86f6742270903bd4",
            "1772e2b27df6455fb0db327f392e8633",
            "f28ba42799f04459beddd9ca5b88cf82",
            "c7978cb1df4c40e2adde7c40b6db2d83",
            "e3ecf340c51942a8b54a0de259200a94",
            "7937170584374e87b2cc3969ba9e487b",
            "a3a13c545f67445c997c1ae4cede6a79",
            "f2c6397605c2408aab3d9337378b694e",
            "74e3bb22dedd47e78771861021d72c35",
            "57b4934a968842809c305b9d7be8b17a"
          ]
        },
        "outputId": "59fa8af9-55d6-4e83-9a31-34b7bc201b04"
      },
      "outputs": [
        {
          "output_type": "stream",
          "name": "stdout",
          "text": [
            "logging in as andres.quintero8@udea.edu.co ... please wait\n",
            "using course session ai4eng.v1.udea.r2::2022.1\n",
            "success!! you are logged in\n"
          ]
        }
      ],
      "source": [
        "from local.lib.rlxmoocapi import submit, session\n",
        "session.LoginSequence(endpoint=init.endpoint, course_id=init.course_id, lab_id=\"L07.01\", varname=\"student\");"
      ]
    },
    {
      "cell_type": "code",
      "execution_count": 3,
      "metadata": {
        "id": "VvqrtFWvVzFJ"
      },
      "outputs": [],
      "source": [
        "from sklearn.datasets import make_moons\n",
        "import numpy as np\n",
        "import matplotlib.pyplot as plt\n",
        "import pandas as pd\n",
        "from local.lib import mlutils\n",
        "%matplotlib inline"
      ]
    },
    {
      "cell_type": "markdown",
      "metadata": {
        "id": "w5RyenIqVzFK"
      },
      "source": [
        "## Dataset \n",
        "\n",
        "you have data in a matrix $\\mathbf{X} \\in \\mathbb{R}^{m\\times n}$ and the corresponding labels $\\mathbf{y} \\in \\mathbb{R}^m$.\n",
        "\n",
        "each row in matrix $\\mathbf{X}$ contains one data point $\\mathbf{x}^{(i)}$\n",
        "\n",
        "$$\\begin{bmatrix}\n",
        " x^{(0)}\\\\\n",
        " x^{(1)}\\\\\n",
        " ... \\\\\n",
        " x^{(m-1)} \n",
        "\\end{bmatrix}\n",
        "$$\n",
        "\n",
        "and each data point is a vector $\\mathbf{x}^{(i)}=[x^{(i)}_0, x^{(i)}_1,...,x^{(i)}_{n-1}]$.\n",
        "\n",
        "Also, each data point has an associated label $\\mathbf{y} = [y^{(0)}, y^{(1)},..., y^{(m-1)}]$.\n",
        "\n",
        "We will be doing **binary classification** so $y^{(0)}\\in \\{0,1\\}$"
      ]
    },
    {
      "cell_type": "code",
      "execution_count": 4,
      "metadata": {
        "id": "YID90zacVzFK",
        "outputId": "7d927f8f-10f2-46fe-b9df-70d1538b5e5a",
        "colab": {
          "base_uri": "https://localhost:8080/"
        }
      },
      "outputs": [
        {
          "output_type": "stream",
          "name": "stdout",
          "text": [
            "m=200\n",
            "n=2\n"
          ]
        },
        {
          "output_type": "execute_result",
          "data": {
            "text/plain": [
              "((200, 2), (200,))"
            ]
          },
          "metadata": {},
          "execution_count": 4
        }
      ],
      "source": [
        "\n",
        "d = pd.read_csv(\"local/data/moons.csv\")\n",
        "X = d[[\"col1\", \"col2\"]].values\n",
        "y = d[\"target\"].values\n",
        "print (\"m=%d\\nn=%d\"%(X.shape[0], X.shape[1]))\n",
        "X.shape, y.shape\n"
      ]
    },
    {
      "cell_type": "code",
      "execution_count": 5,
      "metadata": {
        "id": "Ijk9Ks_hVzFL",
        "outputId": "64e6964f-1de3-4c2d-e6ec-45d4674feca3",
        "colab": {
          "base_uri": "https://localhost:8080/"
        }
      },
      "outputs": [
        {
          "output_type": "stream",
          "name": "stdout",
          "text": [
            "[[ 1.303374   -0.81478084]\n",
            " [-0.98727894 -0.06456482]\n",
            " [ 2.317555    0.44925394]\n",
            " [ 0.85310268 -0.22083508]\n",
            " [-0.97006406  0.64095693]\n",
            " [ 1.65849049 -0.2342485 ]\n",
            " [ 0.8684624  -0.28940167]\n",
            " [ 0.05631143  0.00296565]\n",
            " [ 0.88824669 -0.12888889]\n",
            " [ 0.9925954   0.31451716]]\n",
            "[1 0 1 1 0 1 1 1 1 0]\n"
          ]
        }
      ],
      "source": [
        "\n",
        "print (X[:10])\n",
        "print (y[:10])\n"
      ]
    },
    {
      "cell_type": "code",
      "execution_count": 6,
      "metadata": {
        "id": "uZ9LpjDZVzFN",
        "outputId": "6227e762-edd5-4ab0-860b-496ce849208c",
        "colab": {
          "base_uri": "https://localhost:8080/",
          "height": 265
        }
      },
      "outputs": [
        {
          "output_type": "display_data",
          "data": {
            "text/plain": [
              "<Figure size 432x288 with 1 Axes>"
            ],
            "image/png": "[encoded data removed]"
          },
          "metadata": {
            "needs_background": "light"
          }
        }
      ],
      "source": [
        "\n",
        "plt.scatter(X[:,0][y==0], X[:,1][y==0], color=\"red\", label=\"class 0\")\n",
        "plt.scatter(X[:,0][y==1], X[:,1][y==1], color=\"blue\", label=\"class 1\")\n",
        "plt.legend();\n"
      ]
    },
    {
      "cell_type": "markdown",
      "metadata": {
        "id": "1ry3TXjSVzFO"
      },
      "source": [
        "## Task 1: Create a prediction function\n",
        "\n",
        "**complete the following prediction function** which accepts:\n",
        "    \n",
        "- $\\mathbf{\\theta} = [\\theta_0, \\theta_1,... \\theta_{n-1}] \\in \\mathbb{R}^n$, a `numpy` vector.\n",
        "- $b  \\in \\mathbb{R}$ , a `float`.\n",
        "- $\\mathbf{X} \\in \\mathbb{R}^{m\\times n}$, a `numpy` 2D array.\n",
        "\n",
        "and returns\n",
        "\n",
        "- $\\hat{\\mathbf{y}} = [\\hat{y}^{(0)}, \\hat{y}^{(1)}, ..., \\hat{y}^{(m-1)}] \\in \\mathbb{R}^m$ defined as follows\n",
        "\n",
        "$$\\hat{y}^{(i)} = \\text{sigm}(\\mathbf{\\theta} \\cdot \\mathbf{x}^{(i)} + b) = \\text{sigm}(\\theta_0 x^{(i)}_0 + \\theta_1 x^{(i)}_1 + b)$$\n",
        "\n",
        "with \n",
        "\n",
        "$$\\text{sigm}(z) = \\frac{1}{1+e^{-z}}$$\n",
        "\n",
        "note that we can also express the prediction vector $\\hat{\\mathbf{y}}$ over the whole dataset as\n",
        "\n",
        "$$\\hat{\\mathbf{y}} = \\text{sigm}(\\mathbf{\\theta} \\cdot \\mathbf{X} + b)$$\n",
        "\n",
        "observe that for any $z$, the sigmoid function squeshes its value between 0 and 1. It can  be simply seen as a continuous **step** function which converts any negative value into 0, and any positive value into 1.\n",
        "\n",
        "**challenge**: use only one line of python code (not counting the $\\text{sigm}$ definition)\n",
        "\n",
        "**warn**: your function must work with any $\\mathbf{X} \\in \\mathbb{R}^{m\\times n}$ and  $\\mathbf{\\theta} \\in \\mathbb{R}^n$, for any $m$ and $n$, not only for $n=2$"
      ]
    },
    {
      "cell_type": "code",
      "execution_count": 7,
      "metadata": {
        "id": "TkChKoCeVzFP",
        "outputId": "b98ceaf2-ac56-485d-80ef-9418b7341c0c",
        "colab": {
          "base_uri": "https://localhost:8080/",
          "height": 296
        }
      },
      "outputs": [
        {
          "output_type": "execute_result",
          "data": {
            "text/plain": [
              "<matplotlib.lines.Line2D at 0x7faeeebe4b10>"
            ]
          },
          "metadata": {},
          "execution_count": 7
        },
        {
          "output_type": "display_data",
          "data": {
            "text/plain": [
              "<Figure size 432x288 with 1 Axes>"
            ],
            "image/png": "[encoded data removed]"
          },
          "metadata": {
            "needs_background": "light"
          }
        }
      ],
      "source": [
        "\n",
        "z = np.linspace(-10,10,100)\n",
        "sigm = lambda x: 1/(1+np.exp(-x))\n",
        "plt.plot(z, sigm(z)); plt.grid(); plt.xlabel(\"z\"); plt.ylabel(\"sigm(z)\")\n",
        "plt.axhline(0.5, color=\"black\"); plt.axvline(0, color=\"black\")\n"
      ]
    },
    {
      "cell_type": "code",
      "execution_count": 7,
      "metadata": {
        "id": "KE2NaBfOVzFQ"
      },
      "outputs": [],
      "source": []
    },
    {
      "cell_type": "code",
      "execution_count": 8,
      "metadata": {
        "id": "ppAKkLF8VzFQ"
      },
      "outputs": [],
      "source": [
        "def prediction(t,b,X):\n",
        "    sigm = lambda z: 1/(1+np.exp(-z))\n",
        "    yhat = sigm(X.dot(t)+b)\n",
        "    return yhat"
      ]
    },
    {
      "cell_type": "markdown",
      "metadata": {
        "id": "VB3uELnIVzFQ"
      },
      "source": [
        "check manually your code. The following should yield a vector with 200 elements, whose sum should be 99.97 at its four first elements \n",
        "\n",
        "    [0.02328672 0.91257015 0.03781132 0.16139629 ... ]"
      ]
    },
    {
      "cell_type": "code",
      "execution_count": 9,
      "metadata": {
        "id": "K2mXiLXKVzFR",
        "colab": {
          "base_uri": "https://localhost:8080/"
        },
        "outputId": "76f9d952-23a1-42c5-c47d-677127d09d52"
      },
      "outputs": [
        {
          "output_type": "stream",
          "name": "stdout",
          "text": [
            "(200,)\n",
            "99.97386377320545\n",
            "[0.02328672 0.91257015 0.03781132 0.16139629 0.97638655 0.03607275\n",
            " 0.13994725 0.59707888 0.17736962 0.29814299 0.65755661 0.1771665\n",
            " 0.10336722 0.36797186 0.04604533 0.09808586 0.56288781 0.13838998\n",
            " 0.85687064 0.05004791 0.02243482 0.10694533 0.66303597 0.05995927\n",
            " 0.5648827  0.03165357 0.17804726 0.98365697 0.08950736 0.17469931\n",
            " 0.03471958 0.93813354 0.05558113 0.6827537  0.10439341 0.0357004\n",
            " 0.19535612 0.97352349 0.58294619 0.11848779 0.64419508 0.94637233\n",
            " 0.4612505  0.96468022 0.1091973  0.9605648  0.04208797 0.86259254\n",
            " 0.02494794 0.8807287  0.24871015 0.94949941 0.97747638 0.06270446\n",
            " 0.97809036 0.5477603  0.05661584 0.98141433 0.02484988 0.94894862\n",
            " 0.58416607 0.76381496 0.36141804 0.84771584 0.16951545 0.88137323\n",
            " 0.96772376 0.0273022  0.43314501 0.89612832 0.86652099 0.9318912\n",
            " 0.66531857 0.98465757 0.01876907 0.0682854  0.91618647 0.96553816\n",
            " 0.67409963 0.43668183 0.3977055  0.24321165 0.69574722 0.04491925\n",
            " 0.1119693  0.02306961 0.04528634 0.10014058 0.04712416 0.30797157\n",
            " 0.95817597 0.03392095 0.60514889 0.06472612 0.34814159 0.9639904\n",
            " 0.63448775 0.95037498 0.95805031 0.97508267 0.89041751 0.87476677\n",
            " 0.05665916 0.97904327 0.11864747 0.55311165 0.81724032 0.94256753\n",
            " 0.07224916 0.04882344 0.97316194 0.85889144 0.94822145 0.06892718\n",
            " 0.61466904 0.01599037 0.91495974 0.81595554 0.20128128 0.78771593\n",
            " 0.76263319 0.68163979 0.94591105 0.0231061  0.54592907 0.79990745\n",
            " 0.80074137 0.34843172 0.07084613 0.9772565  0.30895417 0.95269949\n",
            " 0.1671651  0.70559761 0.00785656 0.33772067 0.03987279 0.94621878\n",
            " 0.88046924 0.03591547 0.96063594 0.94795017 0.80540486 0.03490292\n",
            " 0.26098632 0.21860677 0.55835667 0.12158367 0.98436662 0.02829939\n",
            " 0.94893523 0.88955562 0.82298945 0.96543914 0.04244038 0.96221766\n",
            " 0.57343511 0.09026756 0.07671437 0.96098677 0.54319756 0.61619537\n",
            " 0.03204009 0.96727823 0.0658985  0.11303289 0.64048045 0.80388491\n",
            " 0.22333058 0.84354772 0.92846589 0.26403884 0.97407814 0.97219881\n",
            " 0.97367449 0.2189301  0.06723228 0.81025717 0.02930671 0.03592065\n",
            " 0.88085375 0.95777161 0.95975867 0.85554001 0.96734573 0.76952622\n",
            " 0.04370447 0.82137535 0.03089646 0.52977519 0.06320069 0.60691788\n",
            " 0.22374885 0.38813177 0.16200154 0.01663967 0.54415955 0.97510455\n",
            " 0.28021284 0.97090871]\n"
          ]
        }
      ],
      "source": [
        "t,b = np.r_[[-2,2]], 0.5\n",
        "yhat = prediction(t,b,X)\n",
        "print (yhat.shape)\n",
        "print (np.sum(yhat))\n",
        "print (yhat)"
      ]
    },
    {
      "cell_type": "markdown",
      "metadata": {
        "id": "9bVke30OVzFU"
      },
      "source": [
        "**submit your code**"
      ]
    },
    {
      "cell_type": "code",
      "execution_count": 10,
      "metadata": {
        "scrolled": true,
        "id": "ITttnqrbVzFV",
        "colab": {
          "base_uri": "https://localhost:8080/",
          "height": 163
        },
        "outputId": "f3dd287a-7f96-4489-d40d-4ef5be162080"
      },
      "outputs": [
        {
          "output_type": "display_data",
          "data": {
            "text/plain": [
              "<IPython.core.display.HTML object>"
            ],
            "text/html": [
              "\n",
              "                    <b>task_01 submitted.</b> <b><font color=\"blue\">your grade is 5</font></b> \n",
              "                    <p/><pre>----- grader message -------</pre><br/>testing with 100 random calls<br/><br/><b>correct</b><pre>----------------------------</pre>\n",
              "                    <p/><p/>\n",
              "                    <div style=\"font-size:10px\"><b>SUBMISSION CODE</b> i4I/jR9e2DJXla1r6nvzk+bfeh9uALtGGc0Geu9mLqi3VcBcqGu8YqiE+hBBpwmFopnCcrs7XG9qzVsf4WhYukj43++gm5dc7cnAwNNwMJhiSNbmxfNJyrCEFsla34JA7CxCrLWTH0w+Vc8DwryMZ9/jJdBPUoaKn+t/oelfmnU=</div>\n",
              "                    "
            ]
          },
          "metadata": {}
        }
      ],
      "source": [
        "student.submit_task(globals(), task_id=\"task_01\");"
      ]
    },
    {
      "cell_type": "code",
      "execution_count": null,
      "metadata": {
        "id": "v3y0LQx-VzFV"
      },
      "outputs": [],
      "source": []
    },
    {
      "cell_type": "code",
      "execution_count": null,
      "metadata": {
        "id": "tppE5KmkVzFV"
      },
      "outputs": [],
      "source": []
    },
    {
      "cell_type": "code",
      "execution_count": null,
      "metadata": {
        "id": "E-iTx-LVVzFW"
      },
      "outputs": [],
      "source": []
    },
    {
      "cell_type": "markdown",
      "metadata": {
        "id": "ZnLwNddeVzFW"
      },
      "source": [
        "## Task 2: Create the loss function\n",
        "\n",
        "accepting the following paramters\n",
        "\n",
        "- $\\mathbf{\\theta} = [\\theta_0, \\theta_1] \\in \\mathbb{R}^n$, a `numpy` vector.\n",
        "- $b  \\in \\mathbb{R}$ , a `float`.\n",
        "- $\\mathbf{X} \\in \\mathbb{R}^{m\\times n}$, a `numpy` 2D array.\n",
        "- $\\mathbf{y} \\in \\mathbb{R}^m$, a `numpy` vector.\n",
        "\n",
        "\n",
        "$$\\text{loss}(\\theta, b, \\mathbf{X} , \\mathbf{y}) = \\frac{1}{m}\\sum_{i=0}^{m-1}(\\hat{y}^{(i)}-y^{(i)})^2$$\n",
        "\n",
        "**challenge**: use only one line of python (not counting the `sigm` and `prediction` functions)."
      ]
    },
    {
      "cell_type": "code",
      "execution_count": 11,
      "metadata": {
        "id": "ITRCHVUtVzFW"
      },
      "outputs": [],
      "source": [
        "def loss(t,b,X,y):\n",
        "    from sklearn.metrics import mean_squared_error\n",
        "    def prediction(t,b,X):\n",
        "      sigm = lambda z: 1/(1+np.exp(-z))\n",
        "      yhat = sigm(X.dot(t)+b)\n",
        "      return yhat\n",
        "    sigm = lambda z: 1/(1+np.exp(-z))        \n",
        "    result = mean_squared_error(prediction(t,b,X), y)\n",
        "    return result"
      ]
    },
    {
      "cell_type": "markdown",
      "metadata": {
        "id": "2H8TWMNVVzFX"
      },
      "source": [
        "check manually your code, you should get a loss of 0.664 approx."
      ]
    },
    {
      "cell_type": "code",
      "execution_count": 12,
      "metadata": {
        "id": "_GOmL0QbVzFX",
        "colab": {
          "base_uri": "https://localhost:8080/"
        },
        "outputId": "130699ef-b781-41c5-c5a5-577c8bb40318"
      },
      "outputs": [
        {
          "output_type": "execute_result",
          "data": {
            "text/plain": [
              "0.6640737783637011"
            ]
          },
          "metadata": {},
          "execution_count": 12
        }
      ],
      "source": [
        "t,b = np.r_[[-2,2]], 0.5\n",
        "loss(t,b,X,y)"
      ]
    },
    {
      "cell_type": "markdown",
      "metadata": {
        "id": "bw1U5WzOVzFX"
      },
      "source": [
        "**submit your code**"
      ]
    },
    {
      "cell_type": "code",
      "execution_count": 13,
      "metadata": {
        "scrolled": false,
        "id": "1bPuqgFgVzFX",
        "colab": {
          "base_uri": "https://localhost:8080/",
          "height": 163
        },
        "outputId": "e9f0f478-8e47-4f8b-f7f2-eada0ae75f88"
      },
      "outputs": [
        {
          "output_type": "display_data",
          "data": {
            "text/plain": [
              "<IPython.core.display.HTML object>"
            ],
            "text/html": [
              "\n",
              "                    <b>task_02 submitted.</b> <b><font color=\"blue\">your grade is 5</font></b> \n",
              "                    <p/><pre>----- grader message -------</pre><br/>testing with 100 random calls<br/><br/><b>correct</b><pre>----------------------------</pre>\n",
              "                    <p/><p/>\n",
              "                    <div style=\"font-size:10px\"><b>SUBMISSION CODE</b> hUzL4mV4Da/RnAzhDbMlhdfsxBOMCR1C8TkDg/bBuHioJCUh2TRW24TSH1cJPaOlH9otYttcg9sh4EPckMh17UDgKbxzcu3gjaV15eAGEblaVo96BJCaV7sM2/Xdv7Jof6SuYytN64CQXkqKHxSkK3SLSvStJD+UJMAWppaIc/w=</div>\n",
              "                    "
            ]
          },
          "metadata": {}
        }
      ],
      "source": [
        "student.submit_task(globals(), task_id=\"task_02\");"
      ]
    },
    {
      "cell_type": "code",
      "execution_count": null,
      "metadata": {
        "id": "klF_KfR3VzFY"
      },
      "outputs": [],
      "source": []
    },
    {
      "cell_type": "markdown",
      "metadata": {
        "id": "KUai1Su2VzFY"
      },
      "source": [
        "## Task 3: Obtain the best $\\theta$ and $b$ with black box optimization\n",
        "\n",
        "Complete the following function so that it returns the best $\\theta$ and $b$ for a given data set.\n",
        "\n",
        "Observe that \n",
        "\n",
        "- `x0` in `scipy.optimize.minimize` must be a vector of three items, the first two corresponding to $\\theta_0$ and $\\theta_1$, and the last one to $b$. \n",
        "- the return value of the optimizer `r.x` will also contain three items, and you will have to separate the first two into `t` and the last one into `b`. \n",
        "- you will have to adapt your `loss` function created before so that it extracts $\\theta$ and $b$ from the variable `params`."
      ]
    },
    {
      "cell_type": "code",
      "execution_count": 14,
      "metadata": {
        "id": "DhNMiA-AVzFY"
      },
      "outputs": [],
      "source": [
        "def fit(X,y):\n",
        "    from scipy.optimize import minimize\n",
        "    def loss(params):\n",
        "      sigm = lambda z: 1/(1+np.exp(-z))  \n",
        "      t=params[:2]\n",
        "      b=params[2]\n",
        "      yhat = sigm(np.sum(t*X,axis=1)+b)\n",
        "      result = (np.linalg.norm(yhat-y)**2)*1/len(y)\n",
        "      return result\n",
        "   \n",
        "    tinit = np.zeros(shape=X.shape[1]+1) # keep this initialization\n",
        "    r = minimize(loss, method=\"BFGS\", x0=tinit)# complete the call to minimize\n",
        "    t = r.x[:2]\n",
        "    b = r.x[2]\n",
        "    return t, b"
      ]
    },
    {
      "cell_type": "code",
      "execution_count": 15,
      "metadata": {
        "id": "COUGkYNzVzFY"
      },
      "outputs": [],
      "source": [
        "t, b = fit(X,y)"
      ]
    },
    {
      "cell_type": "markdown",
      "metadata": {
        "id": "jIgcN0rmVzFZ"
      },
      "source": [
        "check manually your code, you should get an accuracy of about 84%-87%, and a classification frontier similar to this one.\n",
        "\n",
        "**Observe** how we convert the sigmoid output which can be any number $\\in [0,1]$, into a discrete classification (0 or 1) by thresholding on 0.5"
      ]
    },
    {
      "cell_type": "code",
      "execution_count": 16,
      "metadata": {
        "id": "WMQGJh2ZVzFZ",
        "outputId": "991c8021-0e35-42d5-dc7e-27d9ced7966c",
        "colab": {
          "base_uri": "https://localhost:8080/",
          "height": 265
        }
      },
      "outputs": [
        {
          "output_type": "execute_result",
          "data": {
            "image/png": "[encoded data removed]",
            "text/plain": [
              "<IPython.core.display.Image object>"
            ]
          },
          "metadata": {},
          "execution_count": 16
        }
      ],
      "source": [
        "\n",
        "from IPython.display import Image\n",
        "Image(filename='local/imgs/logregmoons.png')\n"
      ]
    },
    {
      "cell_type": "code",
      "execution_count": 17,
      "metadata": {
        "id": "iY3EUdxMVzFa",
        "colab": {
          "base_uri": "https://localhost:8080/"
        },
        "outputId": "d743b812-5025-4d93-b822-3dbae8f68a73"
      },
      "outputs": [
        {
          "output_type": "execute_result",
          "data": {
            "text/plain": [
              "(array([ 1.06062599, -3.83856903]), 0.3670749161289732)"
            ]
          },
          "metadata": {},
          "execution_count": 17
        }
      ],
      "source": [
        "t, b"
      ]
    },
    {
      "cell_type": "code",
      "execution_count": 18,
      "metadata": {
        "id": "bLyjKT6KVzFa",
        "colab": {
          "base_uri": "https://localhost:8080/",
          "height": 282
        },
        "outputId": "bdc01aba-e8cc-4c76-94f9-de881465d6dd"
      },
      "outputs": [
        {
          "output_type": "execute_result",
          "data": {
            "text/plain": [
              "(0.517275, 0.482725)"
            ]
          },
          "metadata": {},
          "execution_count": 18
        },
        {
          "output_type": "display_data",
          "data": {
            "text/plain": [
              "<Figure size 432x288 with 1 Axes>"
            ],
            "image/png": "[encoded data removed]"
          },
          "metadata": {
            "needs_background": "light"
          }
        }
      ],
      "source": [
        "mlutils.plot_2Ddata_with_boundary(lambda X: prediction(t,b,X)>.5, X, y)"
      ]
    },
    {
      "cell_type": "code",
      "execution_count": 19,
      "metadata": {
        "id": "dL6NKS5hVzFa",
        "colab": {
          "base_uri": "https://localhost:8080/"
        },
        "outputId": "1de89761-9225-4e83-af33-077ba544036a"
      },
      "outputs": [
        {
          "output_type": "stream",
          "name": "stdout",
          "text": [
            "accuracy 0.860\n"
          ]
        }
      ],
      "source": [
        "acc = np.mean( (prediction(t,b,X)>.5)==y)\n",
        "print (\"accuracy %.3f\"%acc)"
      ]
    },
    {
      "cell_type": "code",
      "execution_count": 19,
      "metadata": {
        "id": "9c60-vk9VzFb"
      },
      "outputs": [],
      "source": []
    },
    {
      "cell_type": "markdown",
      "metadata": {
        "id": "VaBqLKV7VzFb"
      },
      "source": [
        "**submit your code**"
      ]
    },
    {
      "cell_type": "code",
      "execution_count": 20,
      "metadata": {
        "scrolled": false,
        "id": "tedVDnl_VzFb",
        "colab": {
          "base_uri": "https://localhost:8080/",
          "height": 175
        },
        "outputId": "34a28fbd-e5c5-4aaa-d350-384d3da114ac"
      },
      "outputs": [
        {
          "output_type": "display_data",
          "data": {
            "text/plain": [
              "<IPython.core.display.HTML object>"
            ],
            "text/html": [
              "\n",
              "                    <b>task_03 submitted.</b> <b><font color=\"blue\">your grade is 5</font></b> \n",
              "                    <p/><pre>----- grader message -------</pre><br/>testing with 100 random calls<br/><br/><b>correct</b><pre>----------------------------</pre>\n",
              "                    <p/><p/>\n",
              "                    <div style=\"font-size:10px\"><b>SUBMISSION CODE</b> OiEw+eH3geQbyz952yKzKTG1IwS+faf6fnbYUQf+BkOygHsytfeR7uyphZe03Bjb7dn+khm7ncxDNHACeni5LwH3ymhO1GN9uzPYb3Mr39HHezf70GssHeYzpyW4C3PByqudnI40kX/f6wXVk6niLehqZ9IKVAlCP7JHq3m28XM=</div>\n",
              "                    "
            ]
          },
          "metadata": {}
        }
      ],
      "source": [
        "student.submit_task(globals(), task_id=\"task_03\");"
      ]
    },
    {
      "cell_type": "code",
      "execution_count": null,
      "metadata": {
        "id": "uWax2kbwVzFb"
      },
      "outputs": [],
      "source": []
    },
    {
      "cell_type": "code",
      "execution_count": null,
      "metadata": {
        "id": "c06meMb-VzFb"
      },
      "outputs": [],
      "source": []
    }
  ],
  "metadata": {
    "kernelspec": {
      "display_name": "Python 3",
      "language": "python",
      "name": "python3"
    },
    "language_info": {
      "codemirror_mode": {
        "name": "ipython",
        "version": 3
      },
      "file_extension": ".py",
      "mimetype": "text/x-python",
      "name": "python",
      "nbconvert_exporter": "python",
      "pygments_lexer": "ipython3",
      "version": "3.7.3"
    },
    "colab": {
      "provenance": [],
      "include_colab_link": true
    },
    "widgets": {
      "application/vnd.jupyter.widget-state+json": {
        "d5a7905007ea4945b4e4faddbfdccacb": {
          "model_module": "@jupyter-widgets/controls",
          "model_name": "HBoxModel",
          "model_module_version": "1.5.0",
          "state": {
            "_dom_classes": [],
            "_model_module": "@jupyter-widgets/controls",
            "_model_module_version": "1.5.0",
            "_model_name": "HBoxModel",
            "_view_count": null,
            "_view_module": "@jupyter-widgets/controls",
            "_view_module_version": "1.5.0",
            "_view_name": "HBoxView",
            "box_style": "",
            "children": [
              "IPY_MODEL_8ef18f0a9b4d42f4b77a35c86039c855",
              "IPY_MODEL_83eada1c4f0f4734a5a177de02d01fdf",
              "IPY_MODEL_98b4c31fd4b74b2eb41e1363ca9cc6db",
              "IPY_MODEL_5447546896744021a919eb18814b0a2e"
            ],
            "layout": "IPY_MODEL_a573b791881947ba8fc074846a372eec"
          }
        },
        "8ef18f0a9b4d42f4b77a35c86039c855": {
          "model_module": "@jupyter-widgets/controls",
          "model_name": "VBoxModel",
          "model_module_version": "1.5.0",
          "state": {
            "_dom_classes": [],
            "_model_module": "@jupyter-widgets/controls",
            "_model_module_version": "1.5.0",
            "_model_name": "VBoxModel",
            "_view_count": null,
            "_view_module": "@jupyter-widgets/controls",
            "_view_module_version": "1.5.0",
            "_view_name": "VBoxView",
            "box_style": "",
            "children": [
              "IPY_MODEL_d98dc32df0be43ad8e35e2c5fd009f6d",
              "IPY_MODEL_6524537198884058b691453abd34a550"
            ],
            "layout": "IPY_MODEL_354afd5a28e3473c8f5cacab168f0e9d"
          }
        },
        "83eada1c4f0f4734a5a177de02d01fdf": {
          "model_module": "@jupyter-widgets/controls",
          "model_name": "ButtonModel",
          "model_module_version": "1.5.0",
          "state": {
            "_dom_classes": [
              "login_button"
            ],
            "_model_module": "@jupyter-widgets/controls",
            "_model_module_version": "1.5.0",
            "_model_name": "ButtonModel",
            "_view_count": null,
            "_view_module": "@jupyter-widgets/controls",
            "_view_module_version": "1.5.0",
            "_view_name": "ButtonView",
            "button_style": "",
            "description": "Login with email",
            "disabled": false,
            "icon": "",
            "layout": "IPY_MODEL_f44ca5b66eb04d7e86f6742270903bd4",
            "style": "IPY_MODEL_1772e2b27df6455fb0db327f392e8633",
            "tooltip": ""
          }
        },
        "98b4c31fd4b74b2eb41e1363ca9cc6db": {
          "model_module": "@jupyter-widgets/controls",
          "model_name": "HTMLModel",
          "model_module_version": "1.5.0",
          "state": {
            "_dom_classes": [],
            "_model_module": "@jupyter-widgets/controls",
            "_model_module_version": "1.5.0",
            "_model_name": "HTMLModel",
            "_view_count": null,
            "_view_module": "@jupyter-widgets/controls",
            "_view_module_version": "1.5.0",
            "_view_name": "HTMLView",
            "description": "",
            "description_tooltip": null,
            "layout": "IPY_MODEL_f28ba42799f04459beddd9ca5b88cf82",
            "placeholder": "​",
            "style": "IPY_MODEL_c7978cb1df4c40e2adde7c40b6db2d83",
            "value": "<center><big>or</big></center>"
          }
        },
        "5447546896744021a919eb18814b0a2e": {
          "model_module": "@jupyter-widgets/controls",
          "model_name": "ButtonModel",
          "model_module_version": "1.5.0",
          "state": {
            "_dom_classes": [
              "google_button"
            ],
            "_model_module": "@jupyter-widgets/controls",
            "_model_module_version": "1.5.0",
            "_model_name": "ButtonModel",
            "_view_count": null,
            "_view_module": "@jupyter-widgets/controls",
            "_view_module_version": "1.5.0",
            "_view_name": "ButtonView",
            "button_style": "",
            "description": "Login with Google",
            "disabled": false,
            "icon": "",
            "layout": "IPY_MODEL_e3ecf340c51942a8b54a0de259200a94",
            "style": "IPY_MODEL_7937170584374e87b2cc3969ba9e487b",
            "tooltip": ""
          }
        },
        "a573b791881947ba8fc074846a372eec": {
          "model_module": "@jupyter-widgets/base",
          "model_name": "LayoutModel",
          "model_module_version": "1.2.0",
          "state": {
            "_model_module": "@jupyter-widgets/base",
            "_model_module_version": "1.2.0",
            "_model_name": "LayoutModel",
            "_view_count": null,
            "_view_module": "@jupyter-widgets/base",
            "_view_module_version": "1.2.0",
            "_view_name": "LayoutView",
            "align_content": null,
            "align_items": null,
            "align_self": null,
            "border": null,
            "bottom": null,
            "display": null,
            "flex": null,
            "flex_flow": null,
            "grid_area": null,
            "grid_auto_columns": null,
            "grid_auto_flow": null,
            "grid_auto_rows": null,
            "grid_column": null,
            "grid_gap": null,
            "grid_row": null,
            "grid_template_areas": null,
            "grid_template_columns": null,
            "grid_template_rows": null,
            "height": null,
            "justify_content": null,
            "justify_items": null,
            "left": null,
            "margin": null,
            "max_height": null,
            "max_width": null,
            "min_height": null,
            "min_width": null,
            "object_fit": null,
            "object_position": null,
            "order": null,
            "overflow": null,
            "overflow_x": null,
            "overflow_y": null,
            "padding": null,
            "right": null,
            "top": null,
            "visibility": null,
            "width": null
          }
        },
        "d98dc32df0be43ad8e35e2c5fd009f6d": {
          "model_module": "@jupyter-widgets/controls",
          "model_name": "TextModel",
          "model_module_version": "1.5.0",
          "state": {
            "_dom_classes": [],
            "_model_module": "@jupyter-widgets/controls",
            "_model_module_version": "1.5.0",
            "_model_name": "TextModel",
            "_view_count": null,
            "_view_module": "@jupyter-widgets/controls",
            "_view_module_version": "1.5.0",
            "_view_name": "TextView",
            "continuous_update": true,
            "description": "email",
            "description_tooltip": null,
            "disabled": false,
            "layout": "IPY_MODEL_a3a13c545f67445c997c1ae4cede6a79",
            "placeholder": "​",
            "style": "IPY_MODEL_f2c6397605c2408aab3d9337378b694e",
            "value": "andres.quintero8@udea.edu.co"
          }
        },
        "6524537198884058b691453abd34a550": {
          "model_module": "@jupyter-widgets/controls",
          "model_name": "PasswordModel",
          "model_module_version": "1.5.0",
          "state": {
            "_dom_classes": [],
            "_model_module": "@jupyter-widgets/controls",
            "_model_module_version": "1.5.0",
            "_model_name": "PasswordModel",
            "_view_count": null,
            "_view_module": "@jupyter-widgets/controls",
            "_view_module_version": "1.5.0",
            "_view_name": "PasswordView",
            "continuous_update": true,
            "description": "password",
            "description_tooltip": null,
            "disabled": false,
            "layout": "IPY_MODEL_74e3bb22dedd47e78771861021d72c35",
            "placeholder": "​",
            "style": "IPY_MODEL_57b4934a968842809c305b9d7be8b17a",
            "value": "Andresinho98"
          }
        },
        "354afd5a28e3473c8f5cacab168f0e9d": {
          "model_module": "@jupyter-widgets/base",
          "model_name": "LayoutModel",
          "model_module_version": "1.2.0",
          "state": {
            "_model_module": "@jupyter-widgets/base",
            "_model_module_version": "1.2.0",
            "_model_name": "LayoutModel",
            "_view_count": null,
            "_view_module": "@jupyter-widgets/base",
            "_view_module_version": "1.2.0",
            "_view_name": "LayoutView",
            "align_content": null,
            "align_items": null,
            "align_self": null,
            "border": null,
            "bottom": null,
            "display": null,
            "flex": null,
            "flex_flow": null,
            "grid_area": null,
            "grid_auto_columns": null,
            "grid_auto_flow": null,
            "grid_auto_rows": null,
            "grid_column": null,
            "grid_gap": null,
            "grid_row": null,
            "grid_template_areas": null,
            "grid_template_columns": null,
            "grid_template_rows": null,
            "height": null,
            "justify_content": null,
            "justify_items": null,
            "left": null,
            "margin": null,
            "max_height": null,
            "max_width": null,
            "min_height": null,
            "min_width": null,
            "object_fit": null,
            "object_position": null,
            "order": null,
            "overflow": null,
            "overflow_x": null,
            "overflow_y": null,
            "padding": null,
            "right": null,
            "top": null,
            "visibility": null,
            "width": null
          }
        },
        "f44ca5b66eb04d7e86f6742270903bd4": {
          "model_module": "@jupyter-widgets/base",
          "model_name": "LayoutModel",
          "model_module_version": "1.2.0",
          "state": {
            "_model_module": "@jupyter-widgets/base",
            "_model_module_version": "1.2.0",
            "_model_name": "LayoutModel",
            "_view_count": null,
            "_view_module": "@jupyter-widgets/base",
            "_view_module_version": "1.2.0",
            "_view_name": "LayoutView",
            "align_content": null,
            "align_items": null,
            "align_self": null,
            "border": null,
            "bottom": null,
            "display": null,
            "flex": null,
            "flex_flow": null,
            "grid_area": null,
            "grid_auto_columns": null,
            "grid_auto_flow": null,
            "grid_auto_rows": null,
            "grid_column": null,
            "grid_gap": null,
            "grid_row": null,
            "grid_template_areas": null,
            "grid_template_columns": null,
            "grid_template_rows": null,
            "height": "53px",
            "justify_content": null,
            "justify_items": null,
            "left": null,
            "margin": null,
            "max_height": null,
            "max_width": null,
            "min_height": null,
            "min_width": null,
            "object_fit": null,
            "object_position": null,
            "order": null,
            "overflow": null,
            "overflow_x": null,
            "overflow_y": null,
            "padding": null,
            "right": null,
            "top": null,
            "visibility": null,
            "width": "150px"
          }
        },
        "1772e2b27df6455fb0db327f392e8633": {
          "model_module": "@jupyter-widgets/controls",
          "model_name": "ButtonStyleModel",
          "model_module_version": "1.5.0",
          "state": {
            "_model_module": "@jupyter-widgets/controls",
            "_model_module_version": "1.5.0",
            "_model_name": "ButtonStyleModel",
            "_view_count": null,
            "_view_module": "@jupyter-widgets/base",
            "_view_module_version": "1.2.0",
            "_view_name": "StyleView",
            "button_color": null,
            "font_weight": ""
          }
        },
        "f28ba42799f04459beddd9ca5b88cf82": {
          "model_module": "@jupyter-widgets/base",
          "model_name": "LayoutModel",
          "model_module_version": "1.2.0",
          "state": {
            "_model_module": "@jupyter-widgets/base",
            "_model_module_version": "1.2.0",
            "_model_name": "LayoutModel",
            "_view_count": null,
            "_view_module": "@jupyter-widgets/base",
            "_view_module_version": "1.2.0",
            "_view_name": "LayoutView",
            "align_content": null,
            "align_items": null,
            "align_self": null,
            "border": null,
            "bottom": null,
            "display": null,
            "flex": null,
            "flex_flow": null,
            "grid_area": null,
            "grid_auto_columns": null,
            "grid_auto_flow": null,
            "grid_auto_rows": null,
            "grid_column": null,
            "grid_gap": null,
            "grid_row": null,
            "grid_template_areas": null,
            "grid_template_columns": null,
            "grid_template_rows": null,
            "height": null,
            "justify_content": null,
            "justify_items": null,
            "left": null,
            "margin": null,
            "max_height": null,
            "max_width": null,
            "min_height": null,
            "min_width": null,
            "object_fit": null,
            "object_position": null,
            "order": null,
            "overflow": null,
            "overflow_x": null,
            "overflow_y": null,
            "padding": null,
            "right": null,
            "top": null,
            "visibility": null,
            "width": "100px"
          }
        },
        "c7978cb1df4c40e2adde7c40b6db2d83": {
          "model_module": "@jupyter-widgets/controls",
          "model_name": "DescriptionStyleModel",
          "model_module_version": "1.5.0",
          "state": {
            "_model_module": "@jupyter-widgets/controls",
            "_model_module_version": "1.5.0",
            "_model_name": "DescriptionStyleModel",
            "_view_count": null,
            "_view_module": "@jupyter-widgets/base",
            "_view_module_version": "1.2.0",
            "_view_name": "StyleView",
            "description_width": ""
          }
        },
        "e3ecf340c51942a8b54a0de259200a94": {
          "model_module": "@jupyter-widgets/base",
          "model_name": "LayoutModel",
          "model_module_version": "1.2.0",
          "state": {
            "_model_module": "@jupyter-widgets/base",
            "_model_module_version": "1.2.0",
            "_model_name": "LayoutModel",
            "_view_count": null,
            "_view_module": "@jupyter-widgets/base",
            "_view_module_version": "1.2.0",
            "_view_name": "LayoutView",
            "align_content": null,
            "align_items": null,
            "align_self": null,
            "border": null,
            "bottom": null,
            "display": null,
            "flex": null,
            "flex_flow": null,
            "grid_area": null,
            "grid_auto_columns": null,
            "grid_auto_flow": null,
            "grid_auto_rows": null,
            "grid_column": null,
            "grid_gap": null,
            "grid_row": null,
            "grid_template_areas": null,
            "grid_template_columns": null,
            "grid_template_rows": null,
            "height": "53px",
            "justify_content": null,
            "justify_items": null,
            "left": null,
            "margin": null,
            "max_height": null,
            "max_width": null,
            "min_height": null,
            "min_width": null,
            "object_fit": null,
            "object_position": null,
            "order": null,
            "overflow": null,
            "overflow_x": null,
            "overflow_y": null,
            "padding": null,
            "right": null,
            "top": null,
            "visibility": null,
            "width": "200px"
          }
        },
        "7937170584374e87b2cc3969ba9e487b": {
          "model_module": "@jupyter-widgets/controls",
          "model_name": "ButtonStyleModel",
          "model_module_version": "1.5.0",
          "state": {
            "_model_module": "@jupyter-widgets/controls",
            "_model_module_version": "1.5.0",
            "_model_name": "ButtonStyleModel",
            "_view_count": null,
            "_view_module": "@jupyter-widgets/base",
            "_view_module_version": "1.2.0",
            "_view_name": "StyleView",
            "button_color": null,
            "font_weight": ""
          }
        },
        "a3a13c545f67445c997c1ae4cede6a79": {
          "model_module": "@jupyter-widgets/base",
          "model_name": "LayoutModel",
          "model_module_version": "1.2.0",
          "state": {
            "_model_module": "@jupyter-widgets/base",
            "_model_module_version": "1.2.0",
            "_model_name": "LayoutModel",
            "_view_count": null,
            "_view_module": "@jupyter-widgets/base",
            "_view_module_version": "1.2.0",
            "_view_name": "LayoutView",
            "align_content": null,
            "align_items": null,
            "align_self": null,
            "border": null,
            "bottom": null,
            "display": null,
            "flex": null,
            "flex_flow": null,
            "grid_area": null,
            "grid_auto_columns": null,
            "grid_auto_flow": null,
            "grid_auto_rows": null,
            "grid_column": null,
            "grid_gap": null,
            "grid_row": null,
            "grid_template_areas": null,
            "grid_template_columns": null,
            "grid_template_rows": null,
            "height": "25px",
            "justify_content": null,
            "justify_items": null,
            "left": null,
            "margin": null,
            "max_height": null,
            "max_width": null,
            "min_height": null,
            "min_width": null,
            "object_fit": null,
            "object_position": null,
            "order": null,
            "overflow": null,
            "overflow_x": null,
            "overflow_y": null,
            "padding": null,
            "right": null,
            "top": null,
            "visibility": null,
            "width": "300px"
          }
        },
        "f2c6397605c2408aab3d9337378b694e": {
          "model_module": "@jupyter-widgets/controls",
          "model_name": "DescriptionStyleModel",
          "model_module_version": "1.5.0",
          "state": {
            "_model_module": "@jupyter-widgets/controls",
            "_model_module_version": "1.5.0",
            "_model_name": "DescriptionStyleModel",
            "_view_count": null,
            "_view_module": "@jupyter-widgets/base",
            "_view_module_version": "1.2.0",
            "_view_name": "StyleView",
            "description_width": ""
          }
        },
        "74e3bb22dedd47e78771861021d72c35": {
          "model_module": "@jupyter-widgets/base",
          "model_name": "LayoutModel",
          "model_module_version": "1.2.0",
          "state": {
            "_model_module": "@jupyter-widgets/base",
            "_model_module_version": "1.2.0",
            "_model_name": "LayoutModel",
            "_view_count": null,
            "_view_module": "@jupyter-widgets/base",
            "_view_module_version": "1.2.0",
            "_view_name": "LayoutView",
            "align_content": null,
            "align_items": null,
            "align_self": null,
            "border": null,
            "bottom": null,
            "display": null,
            "flex": null,
            "flex_flow": null,
            "grid_area": null,
            "grid_auto_columns": null,
            "grid_auto_flow": null,
            "grid_auto_rows": null,
            "grid_column": null,
            "grid_gap": null,
            "grid_row": null,
            "grid_template_areas": null,
            "grid_template_columns": null,
            "grid_template_rows": null,
            "height": "24px",
            "justify_content": null,
            "justify_items": null,
            "left": null,
            "margin": null,
            "max_height": null,
            "max_width": null,
            "min_height": null,
            "min_width": null,
            "object_fit": null,
            "object_position": null,
            "order": null,
            "overflow": null,
            "overflow_x": null,
            "overflow_y": null,
            "padding": null,
            "right": null,
            "top": null,
            "visibility": null,
            "width": "300px"
          }
        },
        "57b4934a968842809c305b9d7be8b17a": {
          "model_module": "@jupyter-widgets/controls",
          "model_name": "DescriptionStyleModel",
          "model_module_version": "1.5.0",
          "state": {
            "_model_module": "@jupyter-widgets/controls",
            "_model_module_version": "1.5.0",
            "_model_name": "DescriptionStyleModel",
            "_view_count": null,
            "_view_module": "@jupyter-widgets/base",
            "_view_module_version": "1.2.0",
            "_view_name": "StyleView",
            "description_width": ""
          }
        }
      }
    }
  },
  "nbformat": 4,
  "nbformat_minor": 0
}